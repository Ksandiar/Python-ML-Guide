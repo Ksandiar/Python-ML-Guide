{
 "cells": [
  {
   "cell_type": "code",
   "execution_count": null,
   "metadata": {},
   "outputs": [],
   "source": [
    "class mlp: # implementation of multi layer perceptron with one hidden layer\n",
    "    def __init__(self):\n",
    "        pass\n",
    "    \n",
    "    def train(self, inputs, targets, n_hidden, lr, n_iter, beta = 1):\n",
    "        \n",
    "        import numpy as np\n",
    "        \n",
    "        n_obs = np.shape(inputs)[0]\n",
    "        n_in = np.shape(inputs)[1]\n",
    "        n_out = np.shape(targets)[1]\n",
    "        \n",
    "        # Add Bias \n",
    "        inputs = np.concatenate((inputs, - np.ones((n_obs,1))), axis = 1)\n",
    "        \n",
    "        # Initialize Weights\n",
    "        weights_1 = np.random.uniform(-1,1,(n_in + 1, n_hidden)) * (1/np.sqrt(n_in))\n",
    "        weights_2 = np.random.uniform(-1,1,(n_hidden + 1, n_out)) * (1/np.sqrt(n_hidden))\n",
    "        \n",
    "        # forward\n",
    "        def sigmoid(x):\n",
    "            return 1/(1 + np.exp(-x))\n",
    "        \n",
    "        hidden_value = sigmoid(np.dot(inputs, weights_1))\n",
    "        \n",
    "        hidden_value_with_bias = np.concatenate((hidden_value, - np.ones((n_obs,1))), axis = 1)\n",
    "        \n",
    "        outputs = sigmoid(np.dot(hidden_value_with_bias, weights_2))\n",
    "        \n",
    "        "
   ]
  }
 ],
 "metadata": {
  "kernelspec": {
   "display_name": "Python 3",
   "language": "python",
   "name": "python3"
  },
  "language_info": {
   "codemirror_mode": {
    "name": "ipython",
    "version": 3
   },
   "file_extension": ".py",
   "mimetype": "text/x-python",
   "name": "python",
   "nbconvert_exporter": "python",
   "pygments_lexer": "ipython3",
   "version": "3.8.5"
  }
 },
 "nbformat": 4,
 "nbformat_minor": 4
}
