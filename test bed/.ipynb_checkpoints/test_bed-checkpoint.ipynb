{
 "cells": [
  {
   "cell_type": "code",
   "execution_count": 43,
   "metadata": {},
   "outputs": [],
   "source": [
    "inputs = np.array([[0,0],[0,1],[1,0],[1,1]])\n",
    "targets = np.array([[0],[0],[0],[1]])"
   ]
  },
  {
   "cell_type": "code",
   "execution_count": 44,
   "metadata": {},
   "outputs": [
    {
     "data": {
      "text/plain": [
       "array([[0, 0],\n",
       "       [0, 1],\n",
       "       [1, 0],\n",
       "       [1, 1]])"
      ]
     },
     "execution_count": 44,
     "metadata": {},
     "output_type": "execute_result"
    }
   ],
   "source": [
    "inputs"
   ]
  },
  {
   "cell_type": "code",
   "execution_count": 1,
   "metadata": {},
   "outputs": [],
   "source": [
    "class pcn_logic:\n",
    "    \n",
    "    def __init__(self):\n",
    "        pass\n",
    "    \n",
    "    def train(self, inputs, targets, lr, n_iter):\n",
    "        \n",
    "        n_obs = np.shape(inputs)[0]\n",
    "        n_in = np.shape(inputs)[1]\n",
    "        n_out = np.shape(targets)[1]\n",
    "        \n",
    "        inputs = np.concatenate((inputs, - np.ones((n_obs,1))), axis = 1)\n",
    "        \n",
    "        weights = np.random.rand(n_in + 1,n_out)*0.1 - 0.05\n",
    "        \n",
    "        \n",
    "        for i in range(n_iter):\n",
    "            print('Iteration: {}\\n'.format(i + 1))\n",
    "            \n",
    "            activation = np.where(np.dot(inputs, weights) > 0, 1, 0)\n",
    "            \n",
    "            print('Current Result\\n{}\\n'.format(activation))\n",
    "            print('Target\\n{}'.format(targets))\n",
    "            print('-----------------------')\n",
    "            \n",
    "            if np.array_equal(activation,targets):\n",
    "                break\n",
    "            \n",
    "            else:\n",
    "                weights -= lr*np.dot(np.transpose(inputs),(activation - targets))\n",
    "            \n",
    "        self.weights = weights\n",
    "        print('\\npcn train completed')"
   ]
  },
  {
   "cell_type": "code",
   "execution_count": 2,
   "metadata": {},
   "outputs": [],
   "source": [
    "pcn = pcn_logic()"
   ]
  },
  {
   "cell_type": "code",
   "execution_count": 71,
   "metadata": {},
   "outputs": [
    {
     "name": "stdout",
     "output_type": "stream",
     "text": [
      "Iteration: 1\n",
      "\n",
      "Current Result\n",
      "[[0]\n",
      " [0]\n",
      " [0]\n",
      " [0]]\n",
      "\n",
      "Target\n",
      "[[0]\n",
      " [0]\n",
      " [0]\n",
      " [1]]\n",
      "-----------------------\n",
      "Iteration: 2\n",
      "\n",
      "Current Result\n",
      "[[1]\n",
      " [1]\n",
      " [1]\n",
      " [1]]\n",
      "\n",
      "Target\n",
      "[[0]\n",
      " [0]\n",
      " [0]\n",
      " [1]]\n",
      "-----------------------\n",
      "Iteration: 3\n",
      "\n",
      "Current Result\n",
      "[[0]\n",
      " [0]\n",
      " [0]\n",
      " [0]]\n",
      "\n",
      "Target\n",
      "[[0]\n",
      " [0]\n",
      " [0]\n",
      " [1]]\n",
      "-----------------------\n",
      "Iteration: 4\n",
      "\n",
      "Current Result\n",
      "[[0]\n",
      " [0]\n",
      " [0]\n",
      " [1]]\n",
      "\n",
      "Target\n",
      "[[0]\n",
      " [0]\n",
      " [0]\n",
      " [1]]\n",
      "-----------------------\n",
      "\n",
      "pcn train completed\n"
     ]
    }
   ],
   "source": [
    "pcn.train(inputs, targets, 0.25, 10)"
   ]
  },
  {
   "cell_type": "code",
   "execution_count": 72,
   "metadata": {},
   "outputs": [
    {
     "data": {
      "text/plain": [
       "array([[0.22066268],\n",
       "       [0.24245701],\n",
       "       [0.28647042]])"
      ]
     },
     "execution_count": 72,
     "metadata": {},
     "output_type": "execute_result"
    }
   ],
   "source": [
    "pcn.weights"
   ]
  },
  {
   "cell_type": "code",
   "execution_count": null,
   "metadata": {},
   "outputs": [],
   "source": []
  }
 ],
 "metadata": {
  "kernelspec": {
   "display_name": "Python 3",
   "language": "python",
   "name": "python3"
  },
  "language_info": {
   "codemirror_mode": {
    "name": "ipython",
    "version": 3
   },
   "file_extension": ".py",
   "mimetype": "text/x-python",
   "name": "python",
   "nbconvert_exporter": "python",
   "pygments_lexer": "ipython3",
   "version": "3.8.5"
  }
 },
 "nbformat": 4,
 "nbformat_minor": 4
}
